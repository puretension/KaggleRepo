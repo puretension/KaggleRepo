{
 "cells": [
  {
   "cell_type": "code",
   "execution_count": 42,
   "metadata": {},
   "outputs": [],
   "source": [
    "%matplotlib inline\n",
    "\n",
    "import matplotlib as mpl\n",
    "import matplotlib.pyplot as plt\n",
    "import matplotlib.font_manager as fm\n",
    "\n",
    "mpl.rcParams['axes.unicode_minus'] = False\n"
   ]
  },
  {
   "cell_type": "code",
   "execution_count": 43,
   "metadata": {},
   "outputs": [
    {
     "data": {
      "text/plain": [
       "array([ -94, -190, -176, -222, -233, -160, -108, -135,  -41,    6,  -60,\n",
       "       -122, -221, -173, -132,  -75, -153, -125, -129, -162, -229, -296,\n",
       "       -227, -194, -183, -135, -235, -173, -231, -302, -354, -372, -358,\n",
       "       -420, -393, -472, -483, -493, -436, -423, -452, -535, -436, -512,\n",
       "       -489, -508, -486, -549, -486, -474])"
      ]
     },
     "execution_count": 43,
     "metadata": {},
     "output_type": "execute_result"
    }
   ],
   "source": [
    "import numpy as np\n",
    "data = np.random.randint(-100,100,50).cumsum()\n",
    "data"
   ]
  },
  {
   "cell_type": "code",
   "execution_count": 44,
   "metadata": {},
   "outputs": [
    {
     "data": {
      "text/plain": [
       "Text(0.5, 0, '시간(분)')"
      ]
     },
     "execution_count": 44,
     "metadata": {},
     "output_type": "execute_result"
    },
    {
     "name": "stderr",
     "output_type": "stream",
     "text": [
      "findfont: Font family 'NanumMyeongjo' not found.\n",
      "findfont: Font family 'NanumMyeongjo' not found.\n",
      "findfont: Font family 'NanumMyeongjo' not found.\n",
      "findfont: Font family 'NanumMyeongjo' not found.\n",
      "findfont: Font family 'NanumMyeongjo' not found.\n",
      "findfont: Font family 'NanumMyeongjo' not found.\n",
      "findfont: Font family 'NanumMyeongjo' not found.\n",
      "findfont: Font family 'NanumMyeongjo' not found.\n",
      "/Users/idohyeong/anaconda3/lib/python3.11/site-packages/IPython/core/events.py:89: UserWarning: Glyph 51452 (\\N{HANGUL SYLLABLE JU}) missing from current font.\n",
      "  func(*args, **kwargs)\n",
      "/Users/idohyeong/anaconda3/lib/python3.11/site-packages/IPython/core/events.py:89: UserWarning: Glyph 49885 (\\N{HANGUL SYLLABLE SIG}) missing from current font.\n",
      "  func(*args, **kwargs)\n",
      "/Users/idohyeong/anaconda3/lib/python3.11/site-packages/IPython/core/events.py:89: UserWarning: Glyph 44032 (\\N{HANGUL SYLLABLE GA}) missing from current font.\n",
      "  func(*args, **kwargs)\n",
      "/Users/idohyeong/anaconda3/lib/python3.11/site-packages/IPython/core/events.py:89: UserWarning: Glyph 44201 (\\N{HANGUL SYLLABLE GYEOG}) missing from current font.\n",
      "  func(*args, **kwargs)\n",
      "findfont: Font family 'NanumMyeongjo' not found.\n",
      "findfont: Font family 'NanumMyeongjo' not found.\n",
      "/Users/idohyeong/anaconda3/lib/python3.11/site-packages/IPython/core/events.py:89: UserWarning: Glyph 49884 (\\N{HANGUL SYLLABLE SI}) missing from current font.\n",
      "  func(*args, **kwargs)\n",
      "/Users/idohyeong/anaconda3/lib/python3.11/site-packages/IPython/core/events.py:89: UserWarning: Glyph 44036 (\\N{HANGUL SYLLABLE GAN}) missing from current font.\n",
      "  func(*args, **kwargs)\n",
      "/Users/idohyeong/anaconda3/lib/python3.11/site-packages/IPython/core/events.py:89: UserWarning: Glyph 48324 (\\N{HANGUL SYLLABLE BYEOL}) missing from current font.\n",
      "  func(*args, **kwargs)\n",
      "/Users/idohyeong/anaconda3/lib/python3.11/site-packages/IPython/core/events.py:89: UserWarning: Glyph 52628 (\\N{HANGUL SYLLABLE CU}) missing from current font.\n",
      "  func(*args, **kwargs)\n",
      "/Users/idohyeong/anaconda3/lib/python3.11/site-packages/IPython/core/events.py:89: UserWarning: Glyph 51060 (\\N{HANGUL SYLLABLE I}) missing from current font.\n",
      "  func(*args, **kwargs)\n",
      "findfont: Font family 'NanumMyeongjo' not found.\n",
      "findfont: Font family 'NanumMyeongjo' not found.\n",
      "findfont: Font family 'NanumMyeongjo' not found.\n",
      "findfont: Font family 'NanumMyeongjo' not found.\n",
      "findfont: Font family 'NanumMyeongjo' not found.\n",
      "findfont: Font family 'NanumMyeongjo' not found.\n",
      "findfont: Font family 'NanumMyeongjo' not found.\n",
      "findfont: Font family 'NanumMyeongjo' not found.\n",
      "findfont: Font family 'NanumMyeongjo' not found.\n",
      "findfont: Font family 'NanumMyeongjo' not found.\n",
      "findfont: Font family 'NanumMyeongjo' not found.\n",
      "findfont: Font family 'NanumMyeongjo' not found.\n",
      "/Users/idohyeong/anaconda3/lib/python3.11/site-packages/IPython/core/events.py:89: UserWarning: Glyph 48516 (\\N{HANGUL SYLLABLE BUN}) missing from current font.\n",
      "  func(*args, **kwargs)\n",
      "findfont: Font family 'NanumMyeongjo' not found.\n",
      "findfont: Font family 'NanumMyeongjo' not found.\n",
      "findfont: Font family 'NanumMyeongjo' not found.\n",
      "findfont: Font family 'NanumMyeongjo' not found.\n",
      "findfont: Font family 'NanumMyeongjo' not found.\n",
      "findfont: Font family 'NanumMyeongjo' not found.\n",
      "findfont: Font family 'NanumMyeongjo' not found.\n",
      "findfont: Font family 'NanumMyeongjo' not found.\n",
      "findfont: Font family 'NanumMyeongjo' not found.\n",
      "findfont: Font family 'NanumMyeongjo' not found.\n",
      "findfont: Font family 'NanumMyeongjo' not found.\n",
      "findfont: Font family 'NanumMyeongjo' not found.\n",
      "findfont: Font family 'NanumMyeongjo' not found.\n",
      "findfont: Font family 'NanumMyeongjo' not found.\n",
      "findfont: Font family 'NanumMyeongjo' not found.\n",
      "findfont: Font family 'NanumMyeongjo' not found.\n",
      "findfont: Font family 'NanumMyeongjo' not found.\n",
      "/Users/idohyeong/anaconda3/lib/python3.11/site-packages/IPython/core/pylabtools.py:152: UserWarning: Glyph 51452 (\\N{HANGUL SYLLABLE JU}) missing from current font.\n",
      "  fig.canvas.print_figure(bytes_io, **kw)\n",
      "/Users/idohyeong/anaconda3/lib/python3.11/site-packages/IPython/core/pylabtools.py:152: UserWarning: Glyph 49885 (\\N{HANGUL SYLLABLE SIG}) missing from current font.\n",
      "  fig.canvas.print_figure(bytes_io, **kw)\n",
      "/Users/idohyeong/anaconda3/lib/python3.11/site-packages/IPython/core/pylabtools.py:152: UserWarning: Glyph 44032 (\\N{HANGUL SYLLABLE GA}) missing from current font.\n",
      "  fig.canvas.print_figure(bytes_io, **kw)\n",
      "/Users/idohyeong/anaconda3/lib/python3.11/site-packages/IPython/core/pylabtools.py:152: UserWarning: Glyph 44201 (\\N{HANGUL SYLLABLE GYEOG}) missing from current font.\n",
      "  fig.canvas.print_figure(bytes_io, **kw)\n",
      "findfont: Font family 'NanumMyeongjo' not found.\n",
      "findfont: Font family 'NanumMyeongjo' not found.\n",
      "/Users/idohyeong/anaconda3/lib/python3.11/site-packages/IPython/core/pylabtools.py:152: UserWarning: Glyph 49884 (\\N{HANGUL SYLLABLE SI}) missing from current font.\n",
      "  fig.canvas.print_figure(bytes_io, **kw)\n",
      "/Users/idohyeong/anaconda3/lib/python3.11/site-packages/IPython/core/pylabtools.py:152: UserWarning: Glyph 44036 (\\N{HANGUL SYLLABLE GAN}) missing from current font.\n",
      "  fig.canvas.print_figure(bytes_io, **kw)\n",
      "/Users/idohyeong/anaconda3/lib/python3.11/site-packages/IPython/core/pylabtools.py:152: UserWarning: Glyph 48324 (\\N{HANGUL SYLLABLE BYEOL}) missing from current font.\n",
      "  fig.canvas.print_figure(bytes_io, **kw)\n",
      "/Users/idohyeong/anaconda3/lib/python3.11/site-packages/IPython/core/pylabtools.py:152: UserWarning: Glyph 52628 (\\N{HANGUL SYLLABLE CU}) missing from current font.\n",
      "  fig.canvas.print_figure(bytes_io, **kw)\n",
      "/Users/idohyeong/anaconda3/lib/python3.11/site-packages/IPython/core/pylabtools.py:152: UserWarning: Glyph 51060 (\\N{HANGUL SYLLABLE I}) missing from current font.\n",
      "  fig.canvas.print_figure(bytes_io, **kw)\n",
      "findfont: Font family 'NanumMyeongjo' not found.\n",
      "findfont: Font family 'NanumMyeongjo' not found.\n",
      "findfont: Font family 'NanumMyeongjo' not found.\n",
      "findfont: Font family 'NanumMyeongjo' not found.\n",
      "findfont: Font family 'NanumMyeongjo' not found.\n",
      "findfont: Font family 'NanumMyeongjo' not found.\n",
      "findfont: Font family 'NanumMyeongjo' not found.\n",
      "findfont: Font family 'NanumMyeongjo' not found.\n",
      "findfont: Font family 'NanumMyeongjo' not found.\n",
      "findfont: Font family 'NanumMyeongjo' not found.\n",
      "findfont: Font family 'NanumMyeongjo' not found.\n",
      "findfont: Font family 'NanumMyeongjo' not found.\n",
      "/Users/idohyeong/anaconda3/lib/python3.11/site-packages/IPython/core/pylabtools.py:152: UserWarning: Glyph 48516 (\\N{HANGUL SYLLABLE BUN}) missing from current font.\n",
      "  fig.canvas.print_figure(bytes_io, **kw)\n",
      "findfont: Font family 'NanumMyeongjo' not found.\n",
      "findfont: Font family 'NanumMyeongjo' not found.\n",
      "findfont: Font family 'NanumMyeongjo' not found.\n",
      "findfont: Font family 'NanumMyeongjo' not found.\n",
      "findfont: Font family 'NanumMyeongjo' not found.\n",
      "findfont: Font family 'NanumMyeongjo' not found.\n",
      "findfont: Font family 'NanumMyeongjo' not found.\n",
      "findfont: Font family 'NanumMyeongjo' not found.\n",
      "findfont: Font family 'NanumMyeongjo' not found.\n"
     ]
    },
    {
     "data": {
      "image/png": "[encoded data removed]",
      "text/plain": [
       "<Figure size 1000x500 with 1 Axes>"
      ]
     },
     "metadata": {},
     "output_type": "display_data"
    }
   ],
   "source": [
    "plt.plot(range(50), data, 'r')\n",
    "mpl.rcParams['axes.unicode_minus'] = False\n",
    "plt.title('시간별 가격 추이')\n",
    "plt.ylabel('주식 가격')\n",
    "plt.xlabel('시간(분)')"
   ]
  },
  {
   "cell_type": "code",
   "execution_count": 45,
   "metadata": {},
   "outputs": [
    {
     "name": "stdout",
     "output_type": "stream",
     "text": [
      "버전:  <module 'matplotlib._version' from '/Users/idohyeong/anaconda3/lib/python3.11/site-packages/matplotlib/_version.py'>\n",
      "설치 위치:  /Users/idohyeong/anaconda3/lib/python3.11/site-packages/matplotlib/__init__.py\n",
      "설정 위치:  /Users/idohyeong/.matplotlib\n",
      "캐시 위치:  /Users/idohyeong/.matplotlib\n"
     ]
    }
   ],
   "source": [
    "print('버전: ', mpl._version)\n",
    "print('설치 위치: ', mpl.__file__)\n",
    "print('설정 위치: ', mpl.get_configdir())\n",
    "print('캐시 위치: ', mpl.get_cachedir())"
   ]
  },
  {
   "cell_type": "code",
   "execution_count": 46,
   "metadata": {},
   "outputs": [
    {
     "name": "stdout",
     "output_type": "stream",
     "text": [
      "설정파일 위치:  /Users/idohyeong/anaconda3/lib/python3.11/site-packages/matplotlib/mpl-data/matplotlibrc\n"
     ]
    }
   ],
   "source": [
    "print('설정파일 위치: ', mpl.matplotlib_fname())"
   ]
  },
  {
   "cell_type": "code",
   "execution_count": 47,
   "metadata": {},
   "outputs": [
    {
     "name": "stdout",
     "output_type": "stream",
     "text": [
      "372\n"
     ]
    }
   ],
   "source": [
    "font_list = fm.findSystemFonts(fontpaths=None, fontext='ttf')\n",
    "print(len(font_list))"
   ]
  },
  {
   "cell_type": "code",
   "execution_count": 48,
   "metadata": {},
   "outputs": [
    {
     "data": {
      "text/plain": [
       "['/System/Library/Fonts/Supplemental/NotoSansSaurashtra-Regular.ttf',\n",
       " '/System/Library/Fonts/Supplemental/Skia.ttf',\n",
       " '/System/Library/Fonts/Supplemental/Nadeem.ttc',\n",
       " '/System/Library/Fonts/Supplemental/NotoSansMeroitic-Regular.ttf',\n",
       " '/System/Library/Fonts/Supplemental/STIXGeneralBol.otf',\n",
       " '/System/Library/Fonts/Supplemental/Tahoma.ttf',\n",
       " '/System/Library/Fonts/Supplemental/NotoSansEgyptianHieroglyphs-Regular.ttf',\n",
       " '/System/Library/Fonts/Supplemental/Ayuthaya.ttf',\n",
       " '/System/Library/Fonts/KohinoorTelugu.ttc',\n",
       " '/System/Library/Fonts/Supplemental/STIXNonUniBolIta.otf']"
      ]
     },
     "execution_count": 48,
     "metadata": {},
     "output_type": "execute_result"
    }
   ],
   "source": [
    "font_list[:10]"
   ]
  },
  {
   "cell_type": "code",
   "execution_count": 49,
   "metadata": {},
   "outputs": [
    {
     "data": {
      "text/plain": [
       "['cmex10',\n",
       " 'STIXSizeThreeSym',\n",
       " 'DejaVu Sans',\n",
       " 'STIXGeneral',\n",
       " 'STIXSizeThreeSym',\n",
       " 'STIXNonUnicode',\n",
       " 'DejaVu Sans',\n",
       " 'cmmi10',\n",
       " 'cmr10',\n",
       " 'STIXSizeFiveSym']"
      ]
     },
     "execution_count": 49,
     "metadata": {},
     "output_type": "execute_result"
    }
   ],
   "source": [
    "f = [f.name for f in fm.fontManager.ttflist]\n",
    "f[:10]"
   ]
  },
  {
   "cell_type": "code",
   "execution_count": 50,
   "metadata": {},
   "outputs": [
    {
     "data": {
      "text/plain": [
       "[]"
      ]
     },
     "execution_count": 50,
     "metadata": {},
     "output_type": "execute_result"
    }
   ],
   "source": [
    "[(f.name, f.fname) for f in fm.fontManager.ttflist if 'Nanum' in f.name]"
   ]
  },
  {
   "cell_type": "code",
   "execution_count": 51,
   "metadata": {},
   "outputs": [
    {
     "ename": "AttributeError",
     "evalue": "module 'matplotlib.font_manager' has no attribute '_rebuild'",
     "output_type": "error",
     "traceback": [
      "\u001b[0;31m---------------------------------------------------------------------------\u001b[0m",
      "\u001b[0;31mAttributeError\u001b[0m                            Traceback (most recent call last)",
      "Cell \u001b[0;32mIn[51], line 8\u001b[0m\n\u001b[1;32m      6\u001b[0m plt\u001b[39m.\u001b[39mrcParams[\u001b[39m'\u001b[39m\u001b[39mlines.color\u001b[39m\u001b[39m'\u001b[39m] \u001b[39m=\u001b[39m \u001b[39m'\u001b[39m\u001b[39mr\u001b[39m\u001b[39m'\u001b[39m\n\u001b[1;32m      7\u001b[0m plt\u001b[39m.\u001b[39mrcParams[\u001b[39m'\u001b[39m\u001b[39maxes.grid\u001b[39m\u001b[39m'\u001b[39m] \u001b[39m=\u001b[39m \u001b[39mTrue\u001b[39;00m \n\u001b[0;32m----> 8\u001b[0m mpl\u001b[39m.\u001b[39mfont_manager\u001b[39m.\u001b[39m_rebuild()\n\u001b[1;32m      9\u001b[0m fm\u001b[39m.\u001b[39m_rebuild()\n\u001b[1;32m     11\u001b[0m plt\u001b[39m.\u001b[39mplot([\u001b[39m1\u001b[39m, \u001b[39m2\u001b[39m, \u001b[39m3\u001b[39m, \u001b[39m4\u001b[39m, \u001b[39m5\u001b[39m])\n",
      "\u001b[0;31mAttributeError\u001b[0m: module 'matplotlib.font_manager' has no attribute '_rebuild'"
     ]
    }
   ],
   "source": [
    "# fontpath = '/Users/idohyeong/Library/Fonts/'\n",
    "# font = fm.FontProperties(fname=fontpath, size = 24)\n",
    "# plt.rc('font', family='NanumMyeongjo') \n",
    "# plt.rcParams[\"figure.figsize\"] = (10, 5)\n",
    "# plt.rcParams['lines.linewidth'] = 2\n",
    "# plt.rcParams['lines.color'] = 'r'\n",
    "# plt.rcParams['axes.grid'] = True \n",
    "# mpl.font_manager._rebuild()\n",
    "# fm._rebuild()\n",
    "\n",
    "# plt.plot([1, 2, 3, 4, 5])\n",
    "# plt.title(\"테스트\", fontproperties=font)\n",
    "# plt.show()"
   ]
  }
 ],
 "metadata": {
  "kernelspec": {
   "display_name": "base",
   "language": "python",
   "name": "python3"
  },
  "language_info": {
   "codemirror_mode": {
    "name": "ipython",
    "version": 3
   },
   "file_extension": ".py",
   "mimetype": "text/x-python",
   "name": "python",
   "nbconvert_exporter": "python",
   "pygments_lexer": "ipython3",
   "version": "3.11.3"
  },
  "orig_nbformat": 4,
  "vscode": {
   "interpreter": {
    "hash": "1da8bb1e470ff509bdae4e915df9bfc787d66424978116436e3017457e3e36c8"
   }
  }
 },
 "nbformat": 4,
 "nbformat_minor": 2
}
