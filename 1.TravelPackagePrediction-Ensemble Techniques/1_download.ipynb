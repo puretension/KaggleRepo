{
 "cells": [
  {
   "cell_type": "code",
   "execution_count": 1,
   "metadata": {},
   "outputs": [],
   "source": [
    "# 초기 파일세팅 \n",
    "# input / output 파일 생성\n",
    "import os\n",
    "\n",
    "# 폴더 생성 (기존재시 pass)\n",
    "os.makedirs('./input',  exist_ok=True)\n",
    "os.makedirs('./output', exist_ok=True)"
   ]
  },
  {
   "cell_type": "code",
   "execution_count": 4,
   "metadata": {},
   "outputs": [
    {
     "name": "stdout",
     "output_type": "stream",
     "text": [
      "Warning: Your Kaggle API key is readable by other users on this system! To fix this, you can run 'chmod 600 /Users/idohyeong/.kaggle/kaggle.json'\n",
      "Source code downloaded to /Users/idohyeong/Desktop/kaggle_repo/1.TravelPackagePrediction-Ensemble Techniques/travelpackageprediction-ensemble-techniques.ipynb\n",
      "\n"
     ]
    }
   ],
   "source": [
    "import subprocess\n",
    "\n",
    "# cmd 명령어 실행으로 다운받기\n",
    "command = [\"kaggle\", \"kernels\", \"pull\", \"yogidsba/travelpackageprediction-ensemble-techniques\"]\n",
    "result = subprocess.check_output(command, encoding='utf-8')\n",
    "\n",
    "print(result)\n"
   ]
  },
  {
   "cell_type": "code",
   "execution_count": null,
   "metadata": {},
   "outputs": [],
   "source": [
    "# 압축 해제 후 input 에 train.csv test.csv  넣기\n",
    "import zipfile\n",
    "zipfile.ZipFile('bike-sharing-demand.zip').extractall('./input')"
   ]
  }
 ],
 "metadata": {
  "kernelspec": {
   "display_name": "Python 3",
   "language": "python",
   "name": "python3"
  },
  "language_info": {
   "codemirror_mode": {
    "name": "ipython",
    "version": 3
   },
   "file_extension": ".py",
   "mimetype": "text/x-python",
   "name": "python",
   "nbconvert_exporter": "python",
   "pygments_lexer": "ipython3",
   "version": "3.9.6"
  },
  "orig_nbformat": 4,
  "vscode": {
   "interpreter": {
    "hash": "31f2aee4e71d21fbe5cf8b01ff0e069b9275f58929596ceb00d14d90e3e16cd6"
   }
  }
 },
 "nbformat": 4,
 "nbformat_minor": 2
}
